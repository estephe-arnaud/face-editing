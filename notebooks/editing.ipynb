{
  "cells": [
    {
      "cell_type": "markdown",
      "metadata": {
        "id": "chzgMQ5rlM0N"
      },
      "source": [
        "# Face Editing"
      ]
    },
    {
      "cell_type": "markdown",
      "metadata": {
        "id": "um4Am6X6lM0Q"
      },
      "source": [
        "## Prepare Environment"
      ]
    },
    {
      "cell_type": "code",
      "execution_count": null,
      "metadata": {
        "id": "wGyOMgezd5he"
      },
      "outputs": [],
      "source": [
        "#@title Download Code { display-mode: \"form\" } \n",
        "import os\n",
        "os.chdir('/content')\n",
        "CODE_DIR = 'face-editing'\n",
        "\n",
        "## clone repo\n",
        "!git clone https://github.com/estephe-arnaud/face-editing.git $CODE_DIR\n",
        "\n",
        "## install ninja\n",
        "!wget https://github.com/ninja-build/ninja/releases/download/v1.8.2/ninja-linux.zip\n",
        "!sudo unzip ninja-linux.zip -d /usr/local/bin/\n",
        "!sudo update-alternatives --install /usr/bin/ninja ninja /usr/local/bin/ninja 1 --force\n",
        "\n",
        "## change work directory\n",
        "os.chdir(f'./{CODE_DIR}')"
      ]
    },
    {
      "cell_type": "code",
      "execution_count": null,
      "metadata": {
        "id": "SGnW26K1oSQ-"
      },
      "outputs": [],
      "source": [
        "#@title Download Models { display-mode: \"form\" } \n",
        "!wget \"https://nextcloud.univ-lille.fr/index.php/s/8RrH7MzLGFfwMjK/download/pretrained_models.tar.xz\" && tar -xvJf ./pretrained_models.tar.xz && rm ./pretrained_models.tar.xz"
      ]
    },
    {
      "cell_type": "code",
      "execution_count": null,
      "metadata": {},
      "outputs": [],
      "source": [
        "#@title Load Face Model { display-mode: \"form\" } \n",
        "from models.face_model import FaceModel\n",
        "FACE_MODEL = FaceModel()"
      ]
    },
    {
      "cell_type": "code",
      "execution_count": null,
      "metadata": {
        "id": "x9dEdptGd5hk"
      },
      "outputs": [],
      "source": [
        "#@title Import Modules { display-mode: \"form\" } \n",
        "import os\n",
        "from PIL import Image\n",
        "from IPython.display import display\n",
        "\n",
        "from utils.common import *\n",
        "from utils.data_utils import *\n",
        "from utils.inference_utils import *\n",
        "from utils.editing_utils import *\n",
        "from utils.morphing_utils import *\n",
        "from configs.attributes_config import edit_attributes"
      ]
    },
    {
      "cell_type": "code",
      "execution_count": null,
      "metadata": {},
      "outputs": [],
      "source": [
        "#@title Editing Function { display-mode: \"form\" }\n",
        "def run(image, edits):\n",
        "    data = run_prediction(FACE_MODEL, [image], return_weights_deltas=True)\n",
        "    \n",
        "    before = data[\"image_original\"][0]\n",
        "    latent = data[\"latent\"][0]\n",
        "    weights_deltas = data[\"weights_deltas\"][0]\n",
        "    style = None\n",
        "    \n",
        "    for name, config in edits.items():        \n",
        "        if config[\"level\"] == \"latent\":\n",
        "            direction = config[\"direction\"]\n",
        "            factor = config[\"factor\"]\n",
        "            if factor:\n",
        "                print(\"Edit {}\".format(name))\n",
        "                latent = edit_latent(latent, direction, factor)\n",
        "                \n",
        "        elif config[\"level\"] == \"style\":\n",
        "            index = config[\"index\"]\n",
        "            delta = config[\"delta\"]\n",
        "            if delta:\n",
        "                print(\"Edit {}\".format(name))\n",
        "                if style is None:\n",
        "                    style = FACE_MODEL.latent2style(latent)\n",
        "                style = edit_style(style, index, delta)\n",
        "                \n",
        "    x = FACE_MODEL.decoder(\n",
        "        latent=latent, \n",
        "        weights_deltas=weights_deltas,\n",
        "        style=style,\n",
        "        resize=False\n",
        "    )\n",
        "    \n",
        "    after = tensor2im(x[0])\n",
        "    return before, after"
      ]
    },
    {
      "cell_type": "markdown",
      "metadata": {
        "id": "SJv5QsGRlM0e"
      },
      "source": [
        "## Perform Inference"
      ]
    },
    {
      "cell_type": "code",
      "execution_count": null,
      "metadata": {},
      "outputs": [],
      "source": [
        "#@title Load Face Image { display-mode: \"form\" } \n",
        "input_dir = \"/content\" #@param {type:\"string\"}\n",
        "\n",
        "files = image_files(input_dir)\n",
        "\n",
        "if len(files) > 0:\n",
        "    files.sort(key=os.path.getmtime)\n",
        "    f = files[-1]\n",
        "    \n",
        "    image = Image.open(f)\n",
        "    image = exif_transpose(image)\n",
        "else:\n",
        "    generator = FACE_MODEL.net.decoder\n",
        "    image = generate_faces(generator, n_faces=1)[0]\n",
        "\n",
        "display(image)"
      ]
    },
    {
      "cell_type": "code",
      "execution_count": null,
      "metadata": {
        "id": "ri0ophlSlM0e"
      },
      "outputs": [],
      "source": [
        "#@title Define Inference Parameters { display-mode: \"form\" } \n",
        "hair = 0 #@param {type:\"slider\", min:-50, max:50, step:1}\n",
        "beard_goatee = 0 #@param {type:\"slider\", min:-20, max:20, step:1}\n",
        "mouth_smiling = 0 #@param {type:\"slider\", min:-5, max:5, step:0.5}\n",
        "mouth_lipstick = 0 #@param {type:\"slider\", min:-20, max:20, step:1}\n",
        "eyes_makeup = 0 #@param {type:\"slider\", min:-25, max:25, step:1}\n",
        "gaze = 0 #@param {type:\"slider\", min:-100, max:100, step:5}\n",
        "eyebrows = 0 #@param {type:\"slider\", min:-20, max:20, step:1}\n",
        "gender = 0 #@param {type:\"slider\", min:-20, max:20, step:1}\n",
        "pose = 0 #@param {type:\"slider\", min:-5, max:5, step:0.5}\n",
        "age = 2.5 #@param {type:\"slider\", min:-5, max:5, step:0.5}\n",
        "\n",
        "d = {\n",
        "    \"hair\": hair,\n",
        "    \"beard_goatee\": beard_goatee,\n",
        "    \"mouth_smiling\": mouth_smiling,\n",
        "    \"mouth_lipstick\": mouth_lipstick,\n",
        "    \"eyes_makeup\": eyes_makeup,\n",
        "    \"gaze\": gaze,\n",
        "    \"eyebrows\": eyebrows,\n",
        "    \"gender\": gender,\n",
        "    \"pose\": pose,\n",
        "    \"age\": age,    \n",
        "}\n",
        "\n",
        "edits = edit_attributes.copy()\n",
        "\n",
        "for name, config in edits.items():\n",
        "    if config[\"level\"] == \"latent\":\n",
        "        config[\"factor\"] = d[name]\n",
        "    elif config[\"level\"] == \"style\":\n",
        "        config[\"delta\"] = d[name]\n",
        "\n",
        "before, after = run(image, edits)\n",
        "display(paste(before, after))"
      ]
    }
  ],
  "metadata": {
    "accelerator": "GPU",
    "colab": {
      "collapsed_sections": [],
      "name": "face_editing.ipynb",
      "provenance": []
    },
    "interpreter": {
      "hash": "083c2a5ffe99829af186613ea8b3bdb3d1262b0c3dda4d2be80bd823ecaf5036"
    },
    "kernelspec": {
      "display_name": "Python 3.9.7 ('fastai')",
      "language": "python",
      "name": "python3"
    },
    "language_info": {
      "codemirror_mode": {
        "name": "ipython",
        "version": 3
      },
      "file_extension": ".py",
      "mimetype": "text/x-python",
      "name": "python",
      "nbconvert_exporter": "python",
      "pygments_lexer": "ipython3",
      "version": "3.6.7"
    },
    "orig_nbformat": 4
  },
  "nbformat": 4,
  "nbformat_minor": 0
}
