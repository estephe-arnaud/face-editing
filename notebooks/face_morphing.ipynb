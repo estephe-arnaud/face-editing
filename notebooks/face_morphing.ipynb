{
  "cells": [
    {
      "cell_type": "markdown",
      "metadata": {
        "id": "chzgMQ5rlM0N"
      },
      "source": [
        "# Face Morphing"
      ]
    },
    {
      "cell_type": "markdown",
      "metadata": {
        "id": "um4Am6X6lM0Q"
      },
      "source": [
        "## Prepare Environment"
      ]
    },
    {
      "cell_type": "code",
      "execution_count": null,
      "metadata": {
        "id": "wGyOMgezd5he"
      },
      "outputs": [],
      "source": [
        "#@title Download Code { display-mode: \"form\" } \n",
        "import os\n",
        "os.chdir('/content')\n",
        "CODE_DIR = 'face-editing'\n",
        "\n",
        "## clone repo\n",
        "!git clone https://github.com/estephe-arnaud/face-editing.git $CODE_DIR\n",
        "\n",
        "## install ninja\n",
        "!wget https://github.com/ninja-build/ninja/releases/download/v1.8.2/ninja-linux.zip\n",
        "!sudo unzip ninja-linux.zip -d /usr/local/bin/\n",
        "!sudo update-alternatives --install /usr/bin/ninja ninja /usr/local/bin/ninja 1 --force\n",
        "\n",
        "## change work directory\n",
        "os.chdir(f'./{CODE_DIR}')"
      ]
    },
    {
      "cell_type": "code",
      "execution_count": null,
      "metadata": {
        "id": "SGnW26K1oSQ-"
      },
      "outputs": [],
      "source": [
        "#@title Download Models { display-mode: \"form\" } \n",
        "!wget \"https://nextcloud.univ-lille.fr/index.php/s/8RrH7MzLGFfwMjK/download/pretrained_models.tar.xz\" && tar -xvJf ./pretrained_models.tar.xz && rm ./pretrained_models.tar.xz"
      ]
    },
    {
      "cell_type": "code",
      "execution_count": null,
      "metadata": {},
      "outputs": [],
      "source": [
        "#@title Load Face Model { display-mode: \"form\" } \n",
        "from models.face_model import FaceModel\n",
        "FACE_MODEL = FaceModel()"
      ]
    },
    {
      "cell_type": "code",
      "execution_count": null,
      "metadata": {
        "id": "x9dEdptGd5hk"
      },
      "outputs": [],
      "source": [
        "#@title Import Modules { display-mode: \"form\" } \n",
        "import os\n",
        "from datetime import datetime\n",
        "from numpy import linspace\n",
        "from PIL import Image\n",
        "from IPython.core.display import Video\n",
        "\n",
        "from utils.common import *\n",
        "from utils.data_utils import *\n",
        "from utils.inference_utils import *\n",
        "from utils.morphing_utils import *"
      ]
    },
    {
      "cell_type": "code",
      "execution_count": null,
      "metadata": {},
      "outputs": [],
      "source": [
        "#@title Morphing Functions { display-mode: \"form\" }\n",
        "def morphing(A, B, n_frames):\n",
        "    images = []    \n",
        "    ratios = linspace(0, 1, n_frames).tolist()\n",
        "\n",
        "    latent_A, weights_deltas_A = A[\"latent\"], A[\"weights_deltas\"]\n",
        "    latent_B, weights_deltas_B = B[\"latent\"], B[\"weights_deltas\"]\n",
        "    \n",
        "    for ratio in ratios:\n",
        "        latent = interpolate_latents(latent_A, latent_B, ratio)\n",
        "        weights_deltas = interpolate_weights_deltas(weights_deltas_A, weights_deltas_B, ratio)\n",
        "\n",
        "        x = FACE_MODEL.decoder(latent=latent, weights_deltas=weights_deltas, resize=False)\n",
        "        image = tensor2im(x[0])\n",
        "        # image = getMesh(image)\n",
        "        images.append(image)\n",
        "        \n",
        "    return images\n",
        "\n",
        "def run(input_dir, output_dir, n_frames):\n",
        "    inputs = [Image.open(f) for f in image_files(input_dir)]\n",
        "    inputs = [exif_transpose(image) for image in inputs]\n",
        "    inputs.append(inputs[0])\n",
        "    \n",
        "    data = run_prediction(FACE_MODEL, inputs, fine_encoding=False, return_weights_deltas=True)    \n",
        "\n",
        "    pts_A = [{\"latent\": data[\"latent\"][i], \"weights_deltas\": data[\"weights_deltas\"][i]} for i in range(0, len(inputs))]\n",
        "    pts_B = [{\"latent\": data[\"latent\"][i], \"weights_deltas\": data[\"weights_deltas\"][i]} for i in range(1, len(inputs))]\n",
        "\n",
        "    outputs = []\n",
        "    for p_A, p_B in zip(pts_A, pts_B):\n",
        "        outputs += morphing(p_A, p_B, n_frames)\n",
        "\n",
        "    # Save video\n",
        "    os.makedirs(output_dir, exist_ok=True)\n",
        "    filename = datetime.now().strftime(\"%Y%m%d-%H%M%S\")\n",
        "    save_path = \"{}/{}.mp4\".format(output_dir, filename)\n",
        "    create_video(outputs, save_path, mode=\"cv2\")\n",
        "    Video(save_path)"
      ]
    },
    {
      "cell_type": "markdown",
      "metadata": {
        "id": "SJv5QsGRlM0e"
      },
      "source": [
        "## Perform Inference"
      ]
    },
    {
      "cell_type": "code",
      "execution_count": null,
      "metadata": {
        "id": "ri0ophlSlM0e"
      },
      "outputs": [],
      "source": [
        "#@title Define Inference Parameters { display-mode: \"form\" } \n",
        "input_dir = \"/content\" #@param {type:\"string\"}\n",
        "output_dir = \"/content\" #@param {type:\"string\"}\n",
        "n_frames = 50 #@param {type:\"slider\", min:1, max:100, step:5}\n",
        "\n",
        "run(input_dir, output_dir, n_frames)"
      ]
    }
  ],
  "metadata": {
    "accelerator": "GPU",
    "colab": {
      "collapsed_sections": [],
      "name": "face_editing.ipynb",
      "provenance": []
    },
    "interpreter": {
      "hash": "083c2a5ffe99829af186613ea8b3bdb3d1262b0c3dda4d2be80bd823ecaf5036"
    },
    "kernelspec": {
      "display_name": "Python 3.9.7 ('fastai')",
      "language": "python",
      "name": "python3"
    },
    "language_info": {
      "codemirror_mode": {
        "name": "ipython",
        "version": 3
      },
      "file_extension": ".py",
      "mimetype": "text/x-python",
      "name": "python",
      "nbconvert_exporter": "python",
      "pygments_lexer": "ipython3",
      "version": "3.6.7"
    },
    "orig_nbformat": 4
  },
  "nbformat": 4,
  "nbformat_minor": 0
}
